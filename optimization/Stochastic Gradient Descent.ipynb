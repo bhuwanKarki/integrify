{
 "cells": [
  {
   "cell_type": "markdown",
   "metadata": {},
   "source": [
    "__Comparing Stochastic gradient descent(SGD) and General / Batch gradient descent__\n",
    "\n",
    "\n",
    "Given an input dataset $\\mathbf{x}$, a target $\\mathbf{y}$, hypothesis function $\\mathbf{h_{\\theta}(x)}$ and a cost function $\\mathbf{J_{\\theta}(x,y,m)}$, $\\mathbf{J_{\\theta}}$ being a function of the hypothesis function and the target and $m$ being the number of data examples,\n",
    "\n",
    "the optimization step in gradient descent function is as follows: $$\\theta_j := \\theta_j - \\alpha \\frac {\\partial}{\\partial \\theta_j}J_{\\theta}(x,y,m)$$\n",
    "\n",
    "This function is optimized until $\\mathbf{J_{\\theta}}$ is less than a tolerance value or the set number of iterations have been reached. In all cases, the optimization is performed on all examples in the data set, and that is why regular gradient descent is also known as batch gradient descent. The effect of this is an incremental movement towards the global minimum.\n",
    "\n",
    "With stochastic gradient descent however, the value for $m$ is set to 1, and in each iteration, for each element in the dataset the weights are optimized.\n",
    "\n",
    "The optimization step in stochastic gradient descent looks as follows: $$\\theta_j := \\theta_j - \\alpha \\frac {\\partial}{\\partial \\theta_j}J_{\\theta}(x_i,y_i)$$ where $i$ is the current element in the data set\n",
    "\n",
    "The optimization process looks as follows:\n",
    "\n",
    "for k in num_iterations:\n",
    "\n",
    "        for i in num_elements:\n",
    "        \n",
    "            optimize weights on element i\n",
    "            \n",
    "This allows the algorithm to move towards the optimum at the calculation of the cost related to each example instead of the cost related to all the examples if we had used regular gradient descent. We can write the SGD process as follows:\n",
    "\n",
    "def SGD(f, theta0, alpha, num_iters):\n",
    "\n",
    "    \"\"\" \n",
    "           Arguments:\n",
    "       f -- the function to optimize, it takes a single argument\n",
    "            and yield two outputs, a cost and the gradient\n",
    "            with respect to the arguments\n",
    "       theta0 -- the initial point to start SGD from\n",
    "       num_iters -- total iterations to run SGD for       \n",
    "       Returns:\n",
    "       theta -- the parameter value after SGD finishes\n",
    "    \"\"\"\n",
    "    start_iter = 0\n",
    "    theta= theta0    \n",
    "    for iter in xrange(start_iter + 1, num_iters + 1):\n",
    "        _, grad = f(theta)\n",
    "        theta = theta - (alpha * grad) # there is NO dot product!\n",
    "    return theta\n",
    "\n",
    "__So why the name stochastic gradient descent?__\n",
    "\n",
    "The name is derived from the fact that at each optimization step, a train, target set is chosen at random and the weights are optimized accordingly. More specifically the dataset is first shuffled before running SGD to make sure that the data is randomized.\n",
    "\n",
    "On Convergence\n",
    "\n",
    "Batch GD takes a reasonably straightforward trajectory to the optimium, but in SGD, because each iteration is trying to create a better fit to the cost function, it tends to take seemingly random/ circuitous trajectory towards the optimum. Actually, it never reaches the optimum but remains in the general neighborhood of the optimum until the algorithm is stopped. SGD never converges but it ends up falling within a location close enough that the approximation of the optimum achieved using SGD can represent the global optimum\n",
    "\n",
    "sgd\n",
    "\n",
    "An example trajectory for SGD is shown in pink, with a corresponding trajectory for batch gradient shown in red\n",
    "\n",
    "__Speed of 'Convergence'__\n",
    "\n",
    "With batch GD, one optimization step is taken after evaluating the cost function over all examples of the dataset. With stochastic GD, the weights are updated for each training example, and this can lead to much faster movement towards the optimum. Usually after a few iterations or epochs over the entire dataset, the optimum will have been found\n",
    "\n",
    "__When to use SGD__\n",
    "\n",
    "If the number of training samples are large, in fact very large, then using gradient descent may take too long because in every iteration when you are updating the values of the parameters, you are running through the complete training set. On the other hand, using SGD will be faster because you use only one training sample and it starts improving itself right away from the first sample.\n",
    "\n",
    "SGD often converges much faster compared to GD but the error function is not as well minimized as in the case of Batch GD"
   ]
  },
  {
   "cell_type": "code",
   "execution_count": null,
   "metadata": {},
   "outputs": [],
   "source": []
  }
 ],
 "metadata": {
  "kernelspec": {
   "display_name": "Python 3",
   "language": "python",
   "name": "python3"
  },
  "language_info": {
   "codemirror_mode": {
    "name": "ipython",
    "version": 3
   },
   "file_extension": ".py",
   "mimetype": "text/x-python",
   "name": "python",
   "nbconvert_exporter": "python",
   "pygments_lexer": "ipython3",
   "version": "3.7.3"
  },
  "latex_envs": {
   "LaTeX_envs_menu_present": true,
   "autoclose": false,
   "autocomplete": true,
   "bibliofile": "biblio.bib",
   "cite_by": "apalike",
   "current_citInitial": 1,
   "eqLabelWithNumbers": true,
   "eqNumInitial": 1,
   "hotkeys": {
    "equation": "Ctrl-E",
    "itemize": "Ctrl-I"
   },
   "labels_anchors": false,
   "latex_user_defs": false,
   "report_style_numbering": false,
   "user_envs_cfg": false
  },
  "toc": {
   "base_numbering": 1,
   "nav_menu": {},
   "number_sections": true,
   "sideBar": true,
   "skip_h1_title": false,
   "title_cell": "Table of Contents",
   "title_sidebar": "Contents",
   "toc_cell": false,
   "toc_position": {},
   "toc_section_display": true,
   "toc_window_display": false
  },
  "varInspector": {
   "cols": {
    "lenName": 16,
    "lenType": 16,
    "lenVar": 40
   },
   "kernels_config": {
    "python": {
     "delete_cmd_postfix": "",
     "delete_cmd_prefix": "del ",
     "library": "var_list.py",
     "varRefreshCmd": "print(var_dic_list())"
    },
    "r": {
     "delete_cmd_postfix": ") ",
     "delete_cmd_prefix": "rm(",
     "library": "var_list.r",
     "varRefreshCmd": "cat(var_dic_list()) "
    }
   },
   "types_to_exclude": [
    "module",
    "function",
    "builtin_function_or_method",
    "instance",
    "_Feature"
   ],
   "window_display": false
  }
 },
 "nbformat": 4,
 "nbformat_minor": 2
}
